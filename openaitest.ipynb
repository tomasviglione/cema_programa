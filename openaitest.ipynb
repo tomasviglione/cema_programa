{
  "nbformat": 4,
  "nbformat_minor": 0,
  "metadata": {
    "colab": {
      "provenance": [],
      "authorship_tag": "ABX9TyPhVMR8ZyVBVW+u9MRvgD6A",
      "include_colab_link": true
    },
    "kernelspec": {
      "name": "python3",
      "display_name": "Python 3"
    },
    "language_info": {
      "name": "python"
    }
  },
  "cells": [
    {
      "cell_type": "markdown",
      "metadata": {
        "id": "view-in-github",
        "colab_type": "text"
      },
      "source": [
        "<a href=\"https://colab.research.google.com/github/tomasviglione/cema_programa/blob/master/openaitest.ipynb\" target=\"_parent\"><img src=\"https://colab.research.google.com/assets/colab-badge.svg\" alt=\"Open In Colab\"/></a>"
      ]
    },
    {
      "cell_type": "code",
      "execution_count": null,
      "metadata": {
        "id": "1nyUaE8gYZwU"
      },
      "outputs": [],
      "source": [
        "import os\n",
        "import openai\n",
        "openai.organization = \"org-HK80FGq3NLmpMxqU91euYhqL\"\n",
        "openai.api_key = os.environ.get('API_KEY')\n",
        "\n",
        "def get_openai_answer(input_prompt):\n",
        "    try:\n",
        "        response = openai.Completion.create(\n",
        "            engine=\"text-davinci-003\",\n",
        "            prompt=input_prompt,\n",
        "            max_tokens=100,\n",
        "            n=1\n",
        "        )\n",
        "        return response.choices[0].text\n",
        "    except:\n",
        "        return \"\"\n",
        "\n",
        "ai_response = get_openai_answer(user_text_input)"
      ]
    }
  ]
}